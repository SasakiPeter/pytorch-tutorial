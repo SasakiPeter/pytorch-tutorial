{
 "cells": [
  {
   "cell_type": "markdown",
   "metadata": {},
   "source": [
    "## Import"
   ]
  },
  {
   "cell_type": "code",
   "execution_count": 1,
   "metadata": {},
   "outputs": [],
   "source": [
    "import numpy as np\n",
    "import pandas as pd\n",
    "import matplotlib.pyplot as plt\n",
    "from sklearn.model_selection import train_test_split\n",
    "from sklearn.decomposition import TruncatedSVD, NMF\n",
    "from umap import UMAP\n",
    "\n",
    "import torch\n",
    "# import torch.nn as nn\n",
    "from torch import nn, optim\n",
    "from torch.nn import functional as F\n",
    "from torch.utils.data import TensorDataset, DataLoader\n",
    "\n",
    "from torchvision import transforms, datasets\n",
    "\n",
    "from tqdm import tqdm"
   ]
  },
  {
   "cell_type": "markdown",
   "metadata": {},
   "source": [
    "## 設定"
   ]
  },
  {
   "cell_type": "code",
   "execution_count": 2,
   "metadata": {},
   "outputs": [],
   "source": [
    "ID = 'rowID'\n",
    "TARGET = 'Objective Variable_CL(L/hr/kg)'\n",
    "TARGET_LOG = 'Objective Variable_CL(L/hr/kg)_Log'\n",
    "\n",
    "TRAIN_PATH = '../data/train_fps.csv'\n",
    "TEST_PATH = '../data/test_fps.csv'\n",
    "\n",
    "# BATCH_SIZE= 460"
   ]
  },
  {
   "cell_type": "markdown",
   "metadata": {},
   "source": [
    "## データ用意"
   ]
  },
  {
   "cell_type": "code",
   "execution_count": 3,
   "metadata": {},
   "outputs": [
    {
     "name": "stdout",
     "output_type": "stream",
     "text": [
      "(1379, 2048) (1379,)\n"
     ]
    }
   ],
   "source": [
    "df_train = pd.read_csv(TRAIN_PATH)\n",
    "df_test = pd.read_csv(TEST_PATH)\n",
    "df_train.rename(columns={TARGET: 'y', TARGET_LOG: 'logy', ID:'ID'}, inplace=True)\n",
    "df_test.rename(columns={ID:'ID'}, inplace=True)\n",
    "\n",
    "X = df_train.drop(['ID', 'y', 'logy'], axis=1)\n",
    "y = df_train.logy\n",
    "print(X.shape, y.shape)"
   ]
  },
  {
   "cell_type": "markdown",
   "metadata": {},
   "source": [
    "## 前処理\n",
    "\n",
    "NMFが一番性能悪い  \n",
    "SVDもUMAPもそんなに変わらんという感触"
   ]
  },
  {
   "cell_type": "code",
   "execution_count": 4,
   "metadata": {},
   "outputs": [],
   "source": [
    "# svd = TruncatedSVD(n_components=5, n_iter=7, random_state=42)\n",
    "# X = svd.fit_transform(X)"
   ]
  },
  {
   "cell_type": "code",
   "execution_count": 4,
   "metadata": {},
   "outputs": [],
   "source": [
    "# um = UMAP(n_components=5)\n",
    "# X = um.fit_transform(X)"
   ]
  },
  {
   "cell_type": "code",
   "execution_count": 5,
   "metadata": {},
   "outputs": [],
   "source": [
    "nmf = NMF(n_components=5, init='random', random_state=71)\n",
    "X = nmf.fit_transform(X)"
   ]
  },
  {
   "cell_type": "code",
   "execution_count": 6,
   "metadata": {},
   "outputs": [],
   "source": [
    "X_train, X_test, y_train, y_test = train_test_split(X, y, train_size=.5, shuffle=True, random_state=12)\n",
    "\n",
    "inps_train = torch.from_numpy(X_train)\n",
    "tgts_train = torch.from_numpy(y_train.values).view(-1, 1)\n",
    "inps_test = torch.from_numpy(X_test)\n",
    "tgts_test = torch.from_numpy(y_test.values).view(-1, 1)"
   ]
  },
  {
   "cell_type": "code",
   "execution_count": 7,
   "metadata": {},
   "outputs": [
    {
     "data": {
      "text/plain": [
       "(torch.Size([689, 5]),\n",
       " torch.Size([689, 1]),\n",
       " torch.Size([690, 5]),\n",
       " torch.Size([690, 1]))"
      ]
     },
     "execution_count": 7,
     "metadata": {},
     "output_type": "execute_result"
    }
   ],
   "source": [
    "inps_train.size(), tgts_train.size(), inps_test.size(), tgts_test.size()"
   ]
  },
  {
   "cell_type": "markdown",
   "metadata": {},
   "source": [
    "## CNN"
   ]
  },
  {
   "cell_type": "code",
   "execution_count": 8,
   "metadata": {},
   "outputs": [],
   "source": [
    "D_IN = inps_train.size()[1]\n",
    "D_OUT = tgts_train.size()[1]\n",
    "\n",
    "N_EPOCH = 1000\n",
    "DEVICE = torch.device('cuda:0' if torch.cuda.is_available() else 'cpu')"
   ]
  },
  {
   "cell_type": "code",
   "execution_count": 9,
   "metadata": {},
   "outputs": [],
   "source": [
    "def count_parameters(model):\n",
    "    return sum(p.numel() for p in model.parameters())\n",
    "\n",
    "def count_trainable_parameters(model):\n",
    "    return sum(p.numel() for p in model.parameters() if p.requires_grad)"
   ]
  },
  {
   "cell_type": "code",
   "execution_count": 10,
   "metadata": {},
   "outputs": [],
   "source": [
    "class ConvLayer(nn.Module):\n",
    "    def __init__(self, in_chan, out_chan, kernel_size=3, stride=1):\n",
    "        super().__init__()\n",
    "        self.conv = nn.Conv1d(in_chan, out_chan, kernel_size=kernel_size, stride=1, padding=kernel_size//2, bias=False)\n",
    "        self.bn = nn.BatchNorm1d(out_chan)\n",
    "        self.activation = nn.PReLU()\n",
    "        self.maxpool = nn.MaxPool1d(kernel_size=kernel_size, stride=stride, padding=kernel_size//2)\n",
    "        self.dropout = nn.Dropout(p=.2)\n",
    "    \n",
    "    \n",
    "    def forward(self, x):\n",
    "        return self.dropout(self.maxpool(self.activation(self.bn(self.conv(x)))))\n",
    "    \n",
    "    \n",
    "class CNN(nn.Module):\n",
    "    def __init__(self, D_in, D_out):\n",
    "        H = 128\n",
    "        super(CNN, self).__init__()\n",
    "#         self.input_layer = ConvLayer(1, H, stride=8)\n",
    "#         self.input_layer = ConvLayer(1, 1)\n",
    "        self.layer1 = ConvLayer(1, H)\n",
    "        self.layer2 = ConvLayer(H, H)\n",
    "        self.maxpool = nn.AdaptiveMaxPool1d(1)\n",
    "        self.output_layer = nn.Linear(H, D_out)\n",
    "            \n",
    "            \n",
    "    def forward(self, x):\n",
    "        x = x.view(-1, 1, x.size(1))\n",
    "#         x = self.input_layer(x)\n",
    "        x = self.layer1(x)\n",
    "        x = self.layer2(x)\n",
    "        x = self.maxpool(x)\n",
    "        x = x.view(x.size(0), -1)\n",
    "        return self.output_layer(x)"
   ]
  },
  {
   "cell_type": "code",
   "execution_count": 11,
   "metadata": {},
   "outputs": [
    {
     "name": "stdout",
     "output_type": "stream",
     "text": [
      "50179 50179\n"
     ]
    }
   ],
   "source": [
    "D_IN = inps_train.size(1)\n",
    "D_OUT = 1\n",
    "model = CNN(D_IN, D_OUT)\n",
    "print(count_parameters(model), count_trainable_parameters(model))"
   ]
  },
  {
   "cell_type": "code",
   "execution_count": 12,
   "metadata": {},
   "outputs": [],
   "source": [
    "# 特徴量の数が不明でもConvから入れば問題ない\n",
    "\n",
    "# ここのConvのchannel数は、考えないといけなさそう\n",
    "# LAYERS = [10, 20, 40, 80]\n",
    "# OUT_DIM = 1\n",
    "\n",
    "max_lr = 0.00025\n",
    "base_lr = 0.00004\n",
    "\n",
    "loss_func = nn.MSELoss()\n",
    "# loss_func = nn.CrossEntropyLoss()\n",
    "optimizer = optim.Adam(model.parameters(), lr=base_lr)\n",
    "scheduler = optim.lr_scheduler.CyclicLR(optimizer, base_lr, max_lr, step_size_up=4, cycle_momentum=False)"
   ]
  },
  {
   "cell_type": "code",
   "execution_count": 13,
   "metadata": {
    "scrolled": true
   },
   "outputs": [
    {
     "name": "stdout",
     "output_type": "stream",
     "text": [
      "Epoch: [100/1000], Loss: 0.6749, Validation loss:0.6947\n",
      "Epoch: [200/1000], Loss: 0.6570, Validation loss:0.6950\n",
      "Epoch: [300/1000], Loss: 0.6343, Validation loss:0.7005\n",
      "Epoch: [400/1000], Loss: 0.6376, Validation loss:0.6994\n",
      "Epoch: [500/1000], Loss: 0.6271, Validation loss:0.6981\n",
      "Epoch: [600/1000], Loss: 0.6181, Validation loss:0.7053\n",
      "Epoch: [700/1000], Loss: 0.6117, Validation loss:0.7025\n",
      "Epoch: [800/1000], Loss: 0.6189, Validation loss:0.6968\n",
      "Epoch: [900/1000], Loss: 0.6042, Validation loss:0.7100\n",
      "Epoch: [1000/1000], Loss: 0.6064, Validation loss:0.7072\n",
      "Finish training\n"
     ]
    }
   ],
   "source": [
    "lr_history = []\n",
    "val_loss_history = []\n",
    "trn_loss_history = []\n",
    "\n",
    "def validate():\n",
    "    model.eval()\n",
    "    with torch.no_grad():\n",
    "        inputs = inps_test.float().to(DEVICE)\n",
    "        targets = tgts_test.float().to(DEVICE)          \n",
    "        outputs = model(inputs)\n",
    "\n",
    "        loss = loss_func(outputs, targets)\n",
    "    return loss.item()\n",
    "\n",
    "for epoch in range(N_EPOCH):\n",
    "    model.train()\n",
    "    \n",
    "    inputs = inps_train.float().to(DEVICE)\n",
    "    targets = tgts_train.float().to(DEVICE)\n",
    "    optimizer.zero_grad()\n",
    "\n",
    "    outputs = model(inputs)\n",
    "\n",
    "    loss = loss_func(outputs, targets)\n",
    "    loss.backward()\n",
    "\n",
    "    optimizer.step()\n",
    "    \n",
    "    lr_step = optimizer.state_dict()[\"param_groups\"][0][\"lr\"]\n",
    "    lr_history.append(lr_step)\n",
    "    scheduler.step()\n",
    "    \n",
    "    trn_loss_history.append(loss.item())\n",
    "    val_loss = validate()\n",
    "    val_loss_history.append(val_loss)\n",
    "\n",
    "    if epoch % 100 == 99:        \n",
    "        print(f'Epoch: [{epoch+1}/{N_EPOCH}], Loss: {np.sqrt(loss.item()):.4f}, Validation loss:{np.sqrt(val_loss):.4f}')\n",
    "\n",
    "print('Finish training')\n",
    "\n",
    "\n",
    "# print(f\"Validation loss:{np.sqrt(loss.item()):.4f}\")"
   ]
  },
  {
   "cell_type": "code",
   "execution_count": 14,
   "metadata": {
    "scrolled": false
   },
   "outputs": [
    {
     "data": {
      "image/png": "[encoded data removed]",
      "text/plain": [
       "<Figure size 800x600 with 1 Axes>"
      ]
     },
     "metadata": {
      "needs_background": "light"
     },
     "output_type": "display_data"
    }
   ],
   "source": [
    "plt.figure(figsize=(4, 3), dpi=200)\n",
    "\n",
    "x = [i for i in range(N_EPOCH)]\n",
    "y = np.sqrt(np.array(trn_loss_history))\n",
    "plt.plot(x, y, label='train')\n",
    "\n",
    "x = [i for i in range(N_EPOCH)]\n",
    "y = np.sqrt(np.array(val_loss_history))\n",
    "plt.plot(x, y, label='valid')\n",
    "\n",
    "plt.legend()\n",
    "plt.show()"
   ]
  },
  {
   "cell_type": "markdown",
   "metadata": {},
   "source": [
    "## ResNet"
   ]
  },
  {
   "cell_type": "code",
   "execution_count": 15,
   "metadata": {},
   "outputs": [],
   "source": [
    "class BnLayer(nn.Module):\n",
    "    def __init__(self, in_chan, out_chan, kernel_size=3, stride=1):\n",
    "        super().__init__()\n",
    "        self.conv = nn.Conv1d(in_chan, out_chan, kernel_size=kernel_size, stride=stride, padding=kernel_size//2, bias=False)\n",
    "        self.bn = nn.BatchNorm1d(out_chan)\n",
    "        self.activation = nn.PReLU()\n",
    "        self.dropout = nn.Dropout(p=.2)\n",
    "        \n",
    "    def forward(self, x):\n",
    "        return self.dropout(self.activation(self.bn(self.conv(x))))\n",
    "\n",
    "    \n",
    "class ResnetLayer(BnLayer):\n",
    "    def forward(self, x):\n",
    "        return x + super().forward(x)\n",
    "    \n",
    "class ResNet(nn.Module):\n",
    "    def __init__(self, layers, D_out, kernel_size):\n",
    "        super().__init__()\n",
    "        self.conv1 = nn.Conv1d(1, 16, kernel_size=kernel_size, stride=1, padding=kernel_size//2)\n",
    "        self.bn1 = nn.BatchNorm1d(16)\n",
    "        self.relu = nn.PReLU()\n",
    "        self.maxpool = nn.MaxPool1d(kernel_size=kernel_size, stride=1, padding=kernel_size//2)\n",
    "        self.layers1 = nn.ModuleList([BnLayer(layers[i], layers[i+1], kernel_size=kernel_size) for i in range(len(layers) - 1)])\n",
    "        self.layers2 = nn.ModuleList([ResnetLayer(layers[i+1], layers[i+1], kernel_size, stride=1) for i in range(len(layers) - 1)])\n",
    "        self.layers3 = nn.ModuleList([ResnetLayer(layers[i+1], layers[i+1], kernel_size, stride=1) for i in range(len(layers) - 1)])\n",
    "#         self.dropout = nn.Dropout(p=.2)\n",
    "        self.avgpool = nn.AdaptiveAvgPool1d(1)\n",
    "        self.output_layer = nn.Linear(layers[-1], D_out)\n",
    "        \n",
    "    def forward(self, x):\n",
    "        x = x.view(-1, 1, x.size(1))\n",
    "        x = self.conv1(x)\n",
    "        x = self.bn1(x)\n",
    "        x = self.relu(x)\n",
    "        x = self.maxpool(x)\n",
    "        for layer1, layer2, layer3 in zip(self.layers1, self.layers2, self.layers3):\n",
    "            x = layer3(layer2(layer1(x)))\n",
    "        x = self.avgpool(x)\n",
    "        x = x.view(x.size(0), -1)\n",
    "        return self.output_layer(x)"
   ]
  },
  {
   "cell_type": "code",
   "execution_count": 16,
   "metadata": {
    "scrolled": true
   },
   "outputs": [
    {
     "name": "stdout",
     "output_type": "stream",
     "text": [
      "2517 2517\n"
     ]
    }
   ],
   "source": [
    "layers = [16, 16]\n",
    "D_out = 1\n",
    "kernel_size = 3\n",
    "N_EPOCH = 1000\n",
    "model = ResNet(layers, D_out, kernel_size)\n",
    "print(count_parameters(model), count_trainable_parameters(model))"
   ]
  },
  {
   "cell_type": "code",
   "execution_count": 17,
   "metadata": {},
   "outputs": [],
   "source": [
    "# 特徴量の数が不明でもConvから入れば問題ない\n",
    "\n",
    "# ここのConvのchannel数は、考えないといけなさそう\n",
    "# LAYERS = [10, 20, 40, 80]\n",
    "# OUT_DIM = 1\n",
    "\n",
    "max_lr = 0.00025\n",
    "base_lr = 0.00004\n",
    "\n",
    "loss_func = nn.MSELoss()\n",
    "# loss_func = nn.CrossEntropyLoss()\n",
    "optimizer = optim.Adam(model.parameters(), lr=base_lr)\n",
    "scheduler = optim.lr_scheduler.CyclicLR(optimizer, base_lr, max_lr, step_size_up=4, cycle_momentum=False)"
   ]
  },
  {
   "cell_type": "code",
   "execution_count": 18,
   "metadata": {
    "scrolled": true
   },
   "outputs": [
    {
     "name": "stdout",
     "output_type": "stream",
     "text": [
      "Epoch: [100/1000], Loss: 0.6977, Validation loss:0.7101\n",
      "Epoch: [200/1000], Loss: 0.6752, Validation loss:0.6933\n",
      "Epoch: [300/1000], Loss: 0.6640, Validation loss:0.6886\n",
      "Epoch: [400/1000], Loss: 0.6658, Validation loss:0.6864\n",
      "Epoch: [500/1000], Loss: 0.6622, Validation loss:0.6855\n",
      "Epoch: [600/1000], Loss: 0.6482, Validation loss:0.6849\n",
      "Epoch: [700/1000], Loss: 0.6623, Validation loss:0.6839\n",
      "Epoch: [800/1000], Loss: 0.6561, Validation loss:0.6840\n",
      "Epoch: [900/1000], Loss: 0.6500, Validation loss:0.6837\n",
      "Epoch: [1000/1000], Loss: 0.6521, Validation loss:0.6830\n",
      "Finish training\n"
     ]
    }
   ],
   "source": [
    "lr_history = []\n",
    "val_loss_history = []\n",
    "trn_loss_history = []\n",
    "\n",
    "def validate():\n",
    "    model.eval()\n",
    "    with torch.no_grad():\n",
    "        inputs = inps_test.float().to(DEVICE)\n",
    "        targets = tgts_test.float().to(DEVICE)          \n",
    "        outputs = model(inputs)\n",
    "\n",
    "        loss = loss_func(outputs, targets)\n",
    "    return loss.item()\n",
    "\n",
    "for epoch in range(N_EPOCH):\n",
    "    model.train()\n",
    "    \n",
    "    inputs = inps_train.float().to(DEVICE)\n",
    "    targets = tgts_train.float().to(DEVICE)\n",
    "    optimizer.zero_grad()\n",
    "\n",
    "    outputs = model(inputs)\n",
    "\n",
    "    loss = loss_func(outputs, targets)\n",
    "    loss.backward()\n",
    "\n",
    "    optimizer.step()\n",
    "    \n",
    "    lr_step = optimizer.state_dict()[\"param_groups\"][0][\"lr\"]\n",
    "    lr_history.append(lr_step)\n",
    "    scheduler.step()\n",
    "    \n",
    "    trn_loss_history.append(loss.item())\n",
    "    val_loss = validate()\n",
    "    val_loss_history.append(val_loss)\n",
    "\n",
    "    if epoch % 100 == 99:        \n",
    "        print(f'Epoch: [{epoch+1}/{N_EPOCH}], Loss: {np.sqrt(loss.item()):.4f}, Validation loss:{np.sqrt(val_loss):.4f}')\n",
    "\n",
    "print('Finish training')\n",
    "\n",
    "\n",
    "# print(f\"Validation loss:{np.sqrt(loss.item()):.4f}\")"
   ]
  },
  {
   "cell_type": "markdown",
   "metadata": {},
   "source": [
    "過学習気味  \n",
    "もっとlayerを薄くした方がいい"
   ]
  },
  {
   "cell_type": "code",
   "execution_count": 19,
   "metadata": {
    "scrolled": false
   },
   "outputs": [
    {
     "data": {
      "image/png": "[encoded data removed]",
      "text/plain": [
       "<Figure size 800x600 with 1 Axes>"
      ]
     },
     "metadata": {
      "needs_background": "light"
     },
     "output_type": "display_data"
    }
   ],
   "source": [
    "plt.figure(figsize=(4, 3), dpi=200)\n",
    "\n",
    "x = [i for i in range(N_EPOCH)]\n",
    "y = np.sqrt(np.array(trn_loss_history))\n",
    "plt.plot(x, y, label='train')\n",
    "\n",
    "x = [i for i in range(N_EPOCH)]\n",
    "y = np.sqrt(np.array(val_loss_history))\n",
    "plt.plot(x, y, label='valid')\n",
    "\n",
    "plt.legend()\n",
    "plt.show()"
   ]
  },
  {
   "cell_type": "code",
   "execution_count": null,
   "metadata": {},
   "outputs": [],
   "source": []
  }
 ],
 "metadata": {
  "kernelspec": {
   "display_name": "Python 3",
   "language": "python",
   "name": "python3"
  },
  "language_info": {
   "codemirror_mode": {
    "name": "ipython",
    "version": 3
   },
   "file_extension": ".py",
   "mimetype": "text/x-python",
   "name": "python",
   "nbconvert_exporter": "python",
   "pygments_lexer": "ipython3",
   "version": "3.7.6"
  }
 },
 "nbformat": 4,
 "nbformat_minor": 4
}
